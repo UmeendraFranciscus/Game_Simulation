{
 "cells": [
  {
   "cell_type": "code",
   "execution_count": 1,
   "metadata": {},
   "outputs": [],
   "source": [
    "# sex\n",
    "#  - Male\n",
    "#  - Female\n",
    "\n",
    "# personality (temperament)\n",
    "#  - friendly\n",
    "#  - aggressive"
   ]
  },
  {
   "cell_type": "code",
   "execution_count": 2,
   "metadata": {},
   "outputs": [],
   "source": [
    "class Cat():\n",
    "    def __init__(self, name, age, sex, personality):\n",
    "        self.name = name\n",
    "        self.age = age\n",
    "        self.sex = sex\n",
    "        self.personality = personality\n",
    "        print(\"--- Cat created ---\")\n",
    "\n",
    "    # Instance methods\n",
    "    def __str__(self):\n",
    "        return f\"{self.name} is {self.age} years old. {self.name} {self.sex} cat. {self.name} {self.personality} cat.\"\n",
    "\n",
    "    def eat(self):\n",
    "        return f\"{self.name} Eating\"\n",
    "    \n",
    "    def sleep(self):\n",
    "        return f\"{self.name} Sleeping\""
   ]
  },
  {
   "cell_type": "code",
   "execution_count": null,
   "metadata": {},
   "outputs": [],
   "source": []
  }
 ],
 "metadata": {
  "kernelspec": {
   "display_name": "Python 3",
   "language": "python",
   "name": "python3"
  },
  "language_info": {
   "codemirror_mode": {
    "name": "ipython",
    "version": 3
   },
   "file_extension": ".py",
   "mimetype": "text/x-python",
   "name": "python",
   "nbconvert_exporter": "python",
   "pygments_lexer": "ipython3",
   "version": "3.6.8"
  }
 },
 "nbformat": 4,
 "nbformat_minor": 2
}
